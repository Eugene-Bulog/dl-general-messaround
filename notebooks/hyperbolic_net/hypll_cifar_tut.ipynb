{
 "cells": [
  {
   "cell_type": "markdown",
   "id": "0dede4e0",
   "metadata": {},
   "source": [
    "# Hyperbolic Neural Net Messaround\n",
    "Recently became fascinated with hyperbolic space and applications for NNs. Found the \"hyperbolic learning library\" (HypLL) and thought I'd give it a try\n",
    "\n",
    "Started off with the the tutorial here https://hyperbolic-learning-library.readthedocs.io/en/latest/tutorials/cifar10_tutorial.html then tried some other experimentation"
   ]
  },
  {
   "cell_type": "code",
   "execution_count": null,
   "id": "dbf42cff",
   "metadata": {},
   "outputs": [],
   "source": [
    "from hypll.manifolds.poincare_ball import Curvature, PoincareBall\n",
    "\n",
    "device = torch.device(\"cuda\")"
   ]
  },
  {
   "cell_type": "code",
   "execution_count": null,
   "id": "e197ee22",
   "metadata": {},
   "outputs": [],
   "source": [
    "import torch\n",
    "import torchvision\n",
    "import torchvision.transforms as transforms\n",
    "\n",
    "transform = transforms.Compose(\n",
    "    [\n",
    "        transforms.ToTensor(),\n",
    "        transforms.Normalize((0.5, 0.5, 0.5), (0.5, 0.5, 0.5)),\n",
    "    ]\n",
    ")\n",
    "\n",
    "\n",
    "batch_size = 4\n",
    "\n",
    "trainset = torchvision.datasets.CIFAR10(\n",
    "    root=\"./data\", train=True, download=True, transform=transform\n",
    ")\n",
    "trainloader = torch.utils.data.DataLoader(\n",
    "    trainset, batch_size=batch_size, shuffle=True, num_workers=2\n",
    ")\n",
    "\n",
    "testset = torchvision.datasets.CIFAR10(\n",
    "    root=\"./data\", train=False, download=True, transform=transform\n",
    ")\n",
    "testloader = torch.utils.data.DataLoader(\n",
    "    testset, batch_size=batch_size, shuffle=False, num_workers=2\n",
    ")\n",
    "\n",
    "classes = (\"plane\", \"car\", \"bird\", \"cat\", \"deer\", \"dog\", \"frog\", \"horse\", \"ship\", \"truck\")"
   ]
  },
  {
   "cell_type": "code",
   "execution_count": null,
   "id": "7385c04a",
   "metadata": {},
   "outputs": [],
   "source": [
    "from torch import nn\n",
    "\n",
    "from hypll import nn as hnn\n",
    "\n",
    "\n",
    "class Net(nn.Module):\n",
    "    def __init__(self, manifold):\n",
    "        super().__init__()\n",
    "        self.conv1 = hnn.HConvolution2d(\n",
    "            in_channels=3, out_channels=6, kernel_size=5, manifold=manifold\n",
    "        )\n",
    "        self.pool = hnn.HMaxPool2d(kernel_size=2, manifold=manifold, stride=2)\n",
    "        self.conv2 = hnn.HConvolution2d(\n",
    "            in_channels=6, out_channels=16, kernel_size=5, manifold=manifold\n",
    "        )\n",
    "        self.fc1 = hnn.HLinear(in_features=16 * 5 * 5, out_features=120, manifold=manifold)\n",
    "        self.fc2 = hnn.HLinear(in_features=120, out_features=84, manifold=manifold)\n",
    "        self.fc3 = hnn.HLinear(in_features=84, out_features=10, manifold=manifold)\n",
    "        self.relu = hnn.HReLU(manifold=manifold)\n",
    "\n",
    "    def forward(self, x):\n",
    "        x = self.pool(self.relu(self.conv1(x)))\n",
    "        x = self.pool(self.relu(self.conv2(x)))\n",
    "        x = x.flatten(start_dim=1)\n",
    "        x = self.relu(self.fc1(x))\n",
    "        x = self.relu(self.fc2(x))\n",
    "        x = self.fc3(x)\n",
    "        return x\n",
    "\n",
    "\n",
    "criterion = nn.CrossEntropyLoss()"
   ]
  },
  {
   "cell_type": "code",
   "execution_count": null,
   "id": "0ab27ff2",
   "metadata": {},
   "outputs": [],
   "source": [
    "from hypll.tensors import TangentTensor\n",
    "\n",
    "def train(model, manifold, opt):\n",
    "    for epoch in range(2):  # loop over the dataset multiple times\n",
    "        running_loss = 0.0\n",
    "        for i, data in enumerate(trainloader, 0):\n",
    "            # get the inputs; data is a list of [inputs, labels]\n",
    "            inputs, labels = data[0].to(device), data[1].to(device)\n",
    "\n",
    "\n",
    "            # move the inputs to the manifold\n",
    "            tangents = TangentTensor(data=inputs, man_dim=1, manifold=manifold)\n",
    "            manifold_inputs = manifold.expmap(tangents)\n",
    "\n",
    "            # zero the parameter gradients\n",
    "            opt.zero_grad()\n",
    "\n",
    "            # forward + backward + optimize\n",
    "            outputs = model(manifold_inputs)\n",
    "            loss = criterion(outputs.tensor, labels)\n",
    "            loss.backward()\n",
    "            opt.step()\n",
    "\n",
    "            # print statistics\n",
    "            running_loss += loss.item()\n",
    "            if i % 2000 == 1999:  # print every 2000 mini-batches\n",
    "                print(f\"[{epoch + 1}, {i + 1:5d}] loss: {running_loss / 2000:.3f}\")\n",
    "                running_loss = 0.0\n",
    "\n",
    "    print(\"Finished Training\")"
   ]
  },
  {
   "cell_type": "code",
   "execution_count": null,
   "id": "272b187a",
   "metadata": {},
   "outputs": [],
   "source": [
    "# net.parameters() includes the learnable curvature \"c\" of the manifold.\n",
    "from hypll.optim import RiemannianAdam\n",
    "\n",
    "# Making the curvature a learnable parameter is usually suboptimal but can\n",
    "# make training smoother.\n",
    "manifold_poincare = PoincareBall(c=Curvature(requires_grad=True))\n",
    "net_poincare = Net(manifold=manifold_poincare)\n",
    "net_poincare.to(device)\n",
    "optimizer_poincare = RiemannianAdam(net_poincare.parameters(), lr=0.001)\n",
    "\n",
    "train(model=net_poincare, manifold=manifold_poincare, opt=optimizer_poincare)\n"
   ]
  },
  {
   "cell_type": "markdown",
   "id": "42c5f0aa",
   "metadata": {},
   "source": [
    "This lib seems to allow swapping out the poincare manifold with euclidean manifold, does this act as a drop in replacement to convert to a \"regular\" euclidean net? Hopefully including the speedup.."
   ]
  },
  {
   "cell_type": "code",
   "execution_count": null,
   "id": "039566f6",
   "metadata": {},
   "outputs": [],
   "source": [
    "manifold_euclid = PoincareBall(c=Curvature(requires_grad=True))\n",
    "net_euclid = Net(manifold=manifold_euclid)\n",
    "net_euclid.to(device)\n",
    "optimizer_poincare = RiemannianAdam(net_euclid.parameters(), lr=0.001)\n",
    "\n",
    "train(model=net_euclid, manifold=manifold_euclid, opt=optimizer_poincare)"
   ]
  },
  {
   "cell_type": "markdown",
   "id": "c893d495",
   "metadata": {},
   "source": [
    "Seems to function as euclidean replacement, and is slightly faster than the hyperbolic version BUT nowhere near as fast as a traditional pytorch only euclidean version of the same model... I'm guessing because the hypll layers are written in pure pytorch, wheras pytorch native layers probably have some cuda kernels for speedup"
   ]
  },
  {
   "cell_type": "markdown",
   "id": "38efbde3",
   "metadata": {},
   "source": []
  }
 ],
 "metadata": {
  "kernelspec": {
   "display_name": "Python 3 (ipykernel)",
   "language": "python",
   "name": "python3"
  },
  "language_info": {
   "codemirror_mode": {
    "name": "ipython",
    "version": 3
   },
   "file_extension": ".py",
   "mimetype": "text/x-python",
   "name": "python",
   "nbconvert_exporter": "python",
   "pygments_lexer": "ipython3",
   "version": "3.11.7"
  }
 },
 "nbformat": 4,
 "nbformat_minor": 5
}
