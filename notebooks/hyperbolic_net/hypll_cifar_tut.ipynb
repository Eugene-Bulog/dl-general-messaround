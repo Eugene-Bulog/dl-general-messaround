{
 "cells": [
  {
   "cell_type": "markdown",
   "id": "0dede4e0",
   "metadata": {},
   "source": [
    "# Hyperbolic Neural Net Messaround\n",
    "Recently became fascinated with hyperbolic space and applications for NNs. Found the \"hyperbolic learning library\" (HypLL) and thought I'd give it a try\n",
    "\n",
    "Based on the tutorial here https://hyperbolic-learning-library.readthedocs.io/en/latest/tutorials/cifar10_tutorial.html"
   ]
  },
  {
   "cell_type": "code",
   "execution_count": null,
   "id": "dbf42cff",
   "metadata": {
    "vscode": {
     "languageId": "plaintext"
    }
   },
   "outputs": [],
   "source": []
  }
 ],
 "metadata": {
  "language_info": {
   "name": "python"
  }
 },
 "nbformat": 4,
 "nbformat_minor": 5
}
